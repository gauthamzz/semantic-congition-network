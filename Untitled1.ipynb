{
 "cells": [
  {
   "cell_type": "code",
   "execution_count": 148,
   "metadata": {},
   "outputs": [],
   "source": [
    "import numpy as np\n",
    "from scipy.signal import hilbert, chirp\n",
    "import matplotlib.pyplot as plt\n",
    "%matplotlib inline"
   ]
  },
  {
   "cell_type": "code",
   "execution_count": 149,
   "metadata": {},
   "outputs": [],
   "source": [
    "no_voxels_considered = 15"
   ]
  },
  {
   "cell_type": "code",
   "execution_count": 150,
   "metadata": {},
   "outputs": [],
   "source": [
    "data = np.load(\"text_emt_alpha/sad/s31.mat-slorTransposed.npy\")"
   ]
  },
  {
   "cell_type": "code",
   "execution_count": 151,
   "metadata": {},
   "outputs": [],
   "source": [
    "def read_TG(filename):\n",
    "    Mtg =  np.loadtxt(open(filename))\n",
    "    Mtg_index = Mtg.astype('int32')\n",
    "    M_data =[]\n",
    "    for i in Mtg_index:\n",
    "        M_data.append(data[i])\n",
    "    Mx_data = np.asarray(M_data)\n",
    "    return Mx_data"
   ]
  },
  {
   "cell_type": "code",
   "execution_count": 152,
   "metadata": {},
   "outputs": [],
   "source": [
    "# MTG = read_TG(\"MTG.csv\")\n",
    "# AngG = read_TG(\"AngG.csv\")\n",
    "# print MTG"
   ]
  },
  {
   "cell_type": "code",
   "execution_count": 153,
   "metadata": {},
   "outputs": [],
   "source": [
    "def tran(x, y):\n",
    "    import pdb\n",
    "    # pdb.set_trace()\n",
    "    x_new = hilbert(x)\n",
    "    angle_x = np.angle(x_new)\n",
    "    y_new = hilbert(y)\n",
    "    angle_y = np.unwrap(np.angle(y_new))\n",
    "\n",
    "    ang_diff = []\n",
    "    for x in range(x_new.shape[0]):\n",
    "        ang_diff.append([])\n",
    "        for y in range(y_new.shape[0]):\n",
    "            ang_diff[x].append(np.abs(angle_x[x] - angle_y[y]))\n",
    "    \n",
    "            \n",
    "    ang_diff = np.asarray(ang_diff)\n",
    "    \n",
    "    # print ang_diff.shape\n",
    "    \n",
    "    plv = np.zeros((15, 15))\n",
    "    #m pdb.set_trace()\n",
    "    for x in range(ang_diff.shape[0]):\n",
    "        for y in range(ang_diff[x].shape[0]):\n",
    "            # print x, y, ang_diff[x][y].shape\n",
    "            # print np.exp(1j*ang_diff[x][y])\n",
    "            plv[x][y] = abs(np.mean(np.exp(1j*ang_diff[x][y])))\n",
    "    \n",
    "    return plv\n",
    "#     j = np.exp(1j*ang_diff)\n",
    "#     plv=[]\n",
    "#     for qq in j:\n",
    "#         plv.append(abs(np.mean(qq)))\n",
    "#     plv = np.asarray(plv)\n",
    "#     return plv"
   ]
  },
  {
   "cell_type": "code",
   "execution_count": 154,
   "metadata": {},
   "outputs": [],
   "source": [
    "def calculate(file1,file2):\n",
    "    read1 = read_TG(file1)\n",
    "    read2 = read_TG(file2)\n",
    "    k = tran(read1,read2)\n",
    "    expos = (np.exp(-np.sum(k, axis=0)))\n",
    "#     print expos\n",
    "    expos[expos > 0.01] = 0\n",
    "    expos[expos != 0] = 1\n",
    "   #  print expos\n",
    "    return np.sum(expos) * 1.0 / no_voxels_considered\n",
    "    # stre = np.sum( np.exp(-np.sum(k, axis=0)) < 0.01)/no_voxels_considered"
   ]
  },
  {
   "cell_type": "code",
   "execution_count": 155,
   "metadata": {},
   "outputs": [],
   "source": [
    "# print(calculate(\"MTG.csv\",\"InfFG.csv\"))\n",
    "# print(calculate(\"MTG.csv\",\"InfTG.csv\"))\n",
    "# print(calculate(\"MTG.csv\",\"MedFG.csv\"))\n",
    "# print(calculate(\"MTG.csv\",\"MidFG.csv\"))\n",
    "# print(calculate(\"MTG.csv\",\"PosC.csv\"))\n",
    "# print(calculate(\"MTG.csv\",\"SupG.csv\"))\n",
    "# print(calculate(\"MTG.csv\",\"AngG.csv\"))"
   ]
  },
  {
   "cell_type": "code",
   "execution_count": 156,
   "metadata": {},
   "outputs": [],
   "source": [
    "def fun(sample):\n",
    "    data = np.load(sample)\n",
    "    s = [] #strength\n",
    "    s.append(calculate(\"MTG.csv\",\"InfFG.csv\"))\n",
    "    s.append(calculate(\"MTG.csv\",\"MedFG.csv\"))\n",
    "    s.append(calculate(\"MTG.csv\",\"MidFG.csv\"))\n",
    "    s.append(calculate(\"MTG.csv\",\"PosC.csv\"))\n",
    "    s.append(calculate(\"MTG.csv\",\"SupG.csv\"))\n",
    "    s.append(calculate(\"MTG.csv\",\"AngG.csv\"))\n",
    "    s = np.asarray(s)\n",
    "    print(s)"
   ]
  },
  {
   "cell_type": "code",
   "execution_count": null,
   "metadata": {},
   "outputs": [],
   "source": [
    "folder_list = ['sad']\n",
    "\n",
    "for folder in folder_list:\n",
    "    for i in range(4, 8):\n",
    "        j = '0' + str(i) if (i < 10) else str(i)\n",
    "        filename = 'text_emt_alpha/' + folder + '/s' + j + '.mat-slorTransposed.npy'\n",
    "        fun(filename)"
   ]
  }
 ],
 "metadata": {
  "kernelspec": {
   "display_name": "Python 2",
   "language": "python",
   "name": "python2"
  },
  "language_info": {
   "codemirror_mode": {
    "name": "ipython",
    "version": 2
   },
   "file_extension": ".py",
   "mimetype": "text/x-python",
   "name": "python",
   "nbconvert_exporter": "python",
   "pygments_lexer": "ipython2",
   "version": "2.7.6"
  }
 },
 "nbformat": 4,
 "nbformat_minor": 2
}
